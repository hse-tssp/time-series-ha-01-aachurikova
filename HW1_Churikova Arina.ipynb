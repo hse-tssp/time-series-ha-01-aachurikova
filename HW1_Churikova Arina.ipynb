{
  "nbformat": 4,
  "nbformat_minor": 0,
  "metadata": {
    "kernelspec": {
      "display_name": "Python 3",
      "language": "python",
      "name": "python3"
    },
    "language_info": {
      "codemirror_mode": {
        "name": "ipython",
        "version": 3
      },
      "file_extension": ".py",
      "mimetype": "text/x-python",
      "name": "python",
      "nbconvert_exporter": "python",
      "pygments_lexer": "ipython3",
      "version": "3.7.0"
    },
    "colab": {
      "name": "HW1.ipynb",
      "provenance": [],
      "collapsed_sections": []
    }
  },
  "cells": [
    {
      "cell_type": "markdown",
      "metadata": {
        "id": "7gbsGZeScr3p"
      },
      "source": [
        "## Time Series Analysis: Home Assignment 1"
      ]
    },
    {
      "cell_type": "markdown",
      "metadata": {
        "id": "zHmdcoy2cr3t"
      },
      "source": [
        "due to **11.02.21 23:00**\n",
        "\n",
        "You need to upload HA1 to github repository,  the link will be provided later."
      ]
    },
    {
      "cell_type": "markdown",
      "metadata": {
        "id": "8mtZN7Yccr3u"
      },
      "source": [
        "Enter your name below: "
      ]
    },
    {
      "cell_type": "code",
      "metadata": {
        "id": "jqPbENZqcr3w"
      },
      "source": [
        "name='Arina Churikova' "
      ],
      "execution_count": 1,
      "outputs": []
    },
    {
      "cell_type": "markdown",
      "metadata": {
        "id": "9HibLu_Wcr3x"
      },
      "source": [
        "### Contents"
      ]
    },
    {
      "cell_type": "markdown",
      "metadata": {
        "id": "zAz3FD8lcr3y"
      },
      "source": [
        "1. **Data preparation (7 points)**\n",
        "\n",
        "    $1.0$ Download data and import functions\n",
        "    \n",
        "    $1.1$ Read data (1 pt.)\n",
        "    \n",
        "    $1.2$ Check NAs (1 pt.)\n",
        "    \n",
        "    $1.3$ Transform dates (2 pt.)\n",
        "    \n",
        "    $1.4$. Make some plots (0.75 pt.)\n",
        "    \n",
        "    $1.5$ Split the data (0.75 pt.)\n",
        "    \n",
        " \n",
        "2. **ETS (7 points)**\n",
        "\n",
        "    $2.1$ Estimate ETS (1 pt.)\n",
        "    \n",
        "    $2.2$ Point forecasts (1 pt.)\n",
        "    \n",
        "    $2.3$ Interval forecasts 1 (1 pt.)\n",
        "    \n",
        "    $2.4$ Interval forecasts 2 (1 pt.)\n",
        "    \n",
        "    $2.5$ Forecast quality metrics (2 pt.)\n",
        "    \n",
        "    $2.6$ Model comparison (1 pt.)\n",
        "    "
      ]
    },
    {
      "cell_type": "markdown",
      "metadata": {
        "id": "0AIazRTmcr3z"
      },
      "source": [
        "## 1. Data preparation (7 pt.)"
      ]
    },
    {
      "cell_type": "markdown",
      "metadata": {
        "id": "y7jJFwC-cr30"
      },
      "source": [
        "### 1.0 Download data and import functions\n",
        "[back to contents](#Contents)"
      ]
    },
    {
      "cell_type": "markdown",
      "metadata": {
        "id": "SqbwZwVYcr30"
      },
      "source": [
        "You have to download [BI_TSA_HA_1_data.csv](https://github.com/bdemeshev/ts603/blob/master/2021-spring/BI_TSA_HA_1_data.csv), which represents quarterly sales of Walmart from 1984 to 2020. The sourse of the data is [ycharts.com](https://ycharts.com/companies/WMT/revenues). "
      ]
    },
    {
      "cell_type": "code",
      "metadata": {
        "colab": {
          "base_uri": "https://localhost:8080/"
        },
        "id": "4B6bi3mncr30",
        "outputId": "bc669c80-0d00-416e-e179-b3b0066054d4"
      },
      "source": [
        "!pip install pandas\n",
        "!pip install sktime\n",
        "import pandas as pd\n",
        "import numpy as np\n",
        "from sktime.utils.plotting import plot_series\n",
        "from sktime.forecasting.model_selection import temporal_train_test_split\n",
        "from statsmodels.tsa.exponential_smoothing.ets import ETSModel\n",
        "from sklearn.metrics import  mean_absolute_error, mean_squared_error"
      ],
      "execution_count": 2,
      "outputs": [
        {
          "output_type": "stream",
          "text": [
            "Requirement already satisfied: pandas in /usr/local/lib/python3.6/dist-packages (1.1.5)\n",
            "Requirement already satisfied: pytz>=2017.2 in /usr/local/lib/python3.6/dist-packages (from pandas) (2018.9)\n",
            "Requirement already satisfied: numpy>=1.15.4 in /usr/local/lib/python3.6/dist-packages (from pandas) (1.19.5)\n",
            "Requirement already satisfied: python-dateutil>=2.7.3 in /usr/local/lib/python3.6/dist-packages (from pandas) (2.8.1)\n",
            "Requirement already satisfied: six>=1.5 in /usr/local/lib/python3.6/dist-packages (from python-dateutil>=2.7.3->pandas) (1.15.0)\n",
            "Collecting sktime\n",
            "\u001b[?25l  Downloading https://files.pythonhosted.org/packages/23/33/9c41660bf00420033a6e07809491263cc9a7d889ec4dfb2f7ea4a2f1bb63/sktime-0.5.3-cp36-cp36m-manylinux2014_x86_64.whl (5.7MB)\n",
            "\u001b[K     |████████████████████████████████| 5.7MB 11.1MB/s \n",
            "\u001b[?25hCollecting scikit-learn>=0.23.0\n",
            "\u001b[?25l  Downloading https://files.pythonhosted.org/packages/e2/4c/6111b9a325f29527d7f262e2ee8c730d354b47a728d955e186dacad57a0d/scikit_learn-0.24.1-cp36-cp36m-manylinux2010_x86_64.whl (22.2MB)\n",
            "\u001b[K     |████████████████████████████████| 22.2MB 1.4MB/s \n",
            "\u001b[?25hCollecting statsmodels>=0.12.1\n",
            "\u001b[?25l  Downloading https://files.pythonhosted.org/packages/0d/7b/c17815648dc31396af865b9c6627cc3f95705954e30f61106795361c39ee/statsmodels-0.12.2-cp36-cp36m-manylinux1_x86_64.whl (9.5MB)\n",
            "\u001b[K     |████████████████████████████████| 9.5MB 40.7MB/s \n",
            "\u001b[?25hRequirement already satisfied: numpy>=1.19.0 in /usr/local/lib/python3.6/dist-packages (from sktime) (1.19.5)\n",
            "Requirement already satisfied: pandas>=1.1.0 in /usr/local/lib/python3.6/dist-packages (from sktime) (1.1.5)\n",
            "Requirement already satisfied: numba>=0.50 in /usr/local/lib/python3.6/dist-packages (from sktime) (0.51.2)\n",
            "Requirement already satisfied: wheel in /usr/local/lib/python3.6/dist-packages (from sktime) (0.36.2)\n",
            "Requirement already satisfied: scipy>=0.19.1 in /usr/local/lib/python3.6/dist-packages (from scikit-learn>=0.23.0->sktime) (1.4.1)\n",
            "Collecting threadpoolctl>=2.0.0\n",
            "  Downloading https://files.pythonhosted.org/packages/f7/12/ec3f2e203afa394a149911729357aa48affc59c20e2c1c8297a60f33f133/threadpoolctl-2.1.0-py3-none-any.whl\n",
            "Requirement already satisfied: joblib>=0.11 in /usr/local/lib/python3.6/dist-packages (from scikit-learn>=0.23.0->sktime) (1.0.0)\n",
            "Requirement already satisfied: patsy>=0.5 in /usr/local/lib/python3.6/dist-packages (from statsmodels>=0.12.1->sktime) (0.5.1)\n",
            "Requirement already satisfied: pytz>=2017.2 in /usr/local/lib/python3.6/dist-packages (from pandas>=1.1.0->sktime) (2018.9)\n",
            "Requirement already satisfied: python-dateutil>=2.7.3 in /usr/local/lib/python3.6/dist-packages (from pandas>=1.1.0->sktime) (2.8.1)\n",
            "Requirement already satisfied: llvmlite<0.35,>=0.34.0.dev0 in /usr/local/lib/python3.6/dist-packages (from numba>=0.50->sktime) (0.34.0)\n",
            "Requirement already satisfied: setuptools in /usr/local/lib/python3.6/dist-packages (from numba>=0.50->sktime) (53.0.0)\n",
            "Requirement already satisfied: six in /usr/local/lib/python3.6/dist-packages (from patsy>=0.5->statsmodels>=0.12.1->sktime) (1.15.0)\n",
            "Installing collected packages: threadpoolctl, scikit-learn, statsmodels, sktime\n",
            "  Found existing installation: scikit-learn 0.22.2.post1\n",
            "    Uninstalling scikit-learn-0.22.2.post1:\n",
            "      Successfully uninstalled scikit-learn-0.22.2.post1\n",
            "  Found existing installation: statsmodels 0.10.2\n",
            "    Uninstalling statsmodels-0.10.2:\n",
            "      Successfully uninstalled statsmodels-0.10.2\n",
            "Successfully installed scikit-learn-0.24.1 sktime-0.5.3 statsmodels-0.12.2 threadpoolctl-2.1.0\n"
          ],
          "name": "stdout"
        }
      ]
    },
    {
      "cell_type": "markdown",
      "metadata": {
        "id": "6jtbpbD3cr31"
      },
      "source": [
        "### 1.1 Read data (1 pt.)\n",
        "[back to contents](#Contents)"
      ]
    },
    {
      "cell_type": "markdown",
      "metadata": {
        "id": "lyw913Z9cr31"
      },
      "source": [
        "Read the downloaded data from your local computer and name it ``` df ```\n",
        "\n",
        "Alternatively, you can skip 1.0 and access data directly putting ```'https://raw.github.com/bdemeshev/ts603/master/2021-spring/BI_TSA_HA_1_data.csv'``` inside ```read_csv```\n",
        "\n",
        "use ``` pd.read_csv('... .csv') ```"
      ]
    },
    {
      "cell_type": "code",
      "metadata": {
        "colab": {
          "base_uri": "https://localhost:8080/"
        },
        "id": "Ob2I64rGcr31",
        "outputId": "234f8280-12ca-4d0d-a0b8-97c021d9d0ce"
      },
      "source": [
        "#code here (1 pt.)\n",
        "from google.colab import drive\n",
        "drive.mount('/content/drive')\n"
      ],
      "execution_count": 3,
      "outputs": [
        {
          "output_type": "stream",
          "text": [
            "Mounted at /content/drive\n"
          ],
          "name": "stdout"
        }
      ]
    },
    {
      "cell_type": "code",
      "metadata": {
        "colab": {
          "base_uri": "https://localhost:8080/"
        },
        "id": "INocAesZdbRd",
        "outputId": "c299357e-ee63-4a78-d1cd-bd98d50f85e8"
      },
      "source": [
        "from google.colab import drive\n",
        "drive.mount('/content/drive')\n",
        "df = pd.read_csv('/content/drive/MyDrive/Colab Notebooks/HW_AC.csv', delimiter=\",\")\n",
        "print(df)"
      ],
      "execution_count": 4,
      "outputs": [
        {
          "output_type": "stream",
          "text": [
            "Drive already mounted at /content/drive; to attempt to forcibly remount, call drive.mount(\"/content/drive\", force_remount=True).\n",
            "       sales  month  day  year\n",
            "0    134.710     10   31  2020\n",
            "1    137.740      7   31  2020\n",
            "2    134.620      4   30  2020\n",
            "3    141.670      1   31  2020\n",
            "4    127.990     10   31  2019\n",
            "..       ...    ...  ...   ...\n",
            "142    1.656      4   30  1985\n",
            "143    2.074      1   31  1985\n",
            "144    1.584     10   31  1984\n",
            "145    1.508      7   31  1984\n",
            "146    1.235      4   30  1984\n",
            "\n",
            "[147 rows x 4 columns]\n"
          ],
          "name": "stdout"
        }
      ]
    },
    {
      "cell_type": "markdown",
      "metadata": {
        "id": "mFzso5B8cr32"
      },
      "source": [
        "### 1.2 Check NAs (1 pt.)\n",
        "[back to contents](#Contents)"
      ]
    },
    {
      "cell_type": "markdown",
      "metadata": {
        "id": "PQVHcIWgcr32"
      },
      "source": [
        "Check whether ``` df ``` contains missing values(NAs):\n",
        "\n",
        "apply ``` isna().value_counts() ``` to ``` df ```"
      ]
    },
    {
      "cell_type": "code",
      "metadata": {
        "colab": {
          "base_uri": "https://localhost:8080/"
        },
        "id": "hBVAhnX6cr32",
        "outputId": "1165dcb0-9d6d-4ce2-bbe7-b1142f04c35a"
      },
      "source": [
        "# code here (0.5 pt.)\r\n",
        "df.isna().value_counts()"
      ],
      "execution_count": 5,
      "outputs": [
        {
          "output_type": "execute_result",
          "data": {
            "text/plain": [
              "sales  month  day    year \n",
              "False  False  False  False    147\n",
              "dtype: int64"
            ]
          },
          "metadata": {
            "tags": []
          },
          "execution_count": 5
        }
      ]
    },
    {
      "cell_type": "markdown",
      "metadata": {
        "id": "raqt_3bocr33"
      },
      "source": [
        "How many missing values are there in ``` df ```?"
      ]
    },
    {
      "cell_type": "code",
      "metadata": {
        "id": "O9QQ8nAEcr33",
        "colab": {
          "base_uri": "https://localhost:8080/"
        },
        "outputId": "7a602249-7cb8-4c24-d18f-4610d5867b88"
      },
      "source": [
        "# answer (0.5 pt.)\r\n",
        "print(df.isna().sum())"
      ],
      "execution_count": 6,
      "outputs": [
        {
          "output_type": "stream",
          "text": [
            "sales    0\n",
            "month    0\n",
            "day      0\n",
            "year     0\n",
            "dtype: int64\n"
          ],
          "name": "stdout"
        }
      ]
    },
    {
      "cell_type": "markdown",
      "metadata": {
        "id": "8Vtjk1gRcr33"
      },
      "source": [
        "### 1.3 Dates transformation (2 pt.)\n",
        "[back to contents](#Contents)"
      ]
    },
    {
      "cell_type": "markdown",
      "metadata": {
        "id": "45qD3fk8cr33"
      },
      "source": [
        "How are dates represented in the original dataset? "
      ]
    },
    {
      "cell_type": "code",
      "metadata": {
        "id": "d4_cf6thcr34",
        "colab": {
          "base_uri": "https://localhost:8080/"
        },
        "outputId": "0ad22462-01c9-47d2-944a-ee6a24e6f19a"
      },
      "source": [
        "# answer (0.5 pt.)\r\n",
        "print(df.dtypes)"
      ],
      "execution_count": 7,
      "outputs": [
        {
          "output_type": "stream",
          "text": [
            "sales    float64\n",
            "month      int64\n",
            "day        int64\n",
            "year       int64\n",
            "dtype: object\n"
          ],
          "name": "stdout"
        }
      ]
    },
    {
      "cell_type": "markdown",
      "metadata": {
        "id": "OAhISKI0cr34"
      },
      "source": [
        "Transform dates to datetime format:\n",
        "\n",
        "``` df['date']=df['...']*10000+df['...']*100+df['...']*1 ```\n",
        "\n",
        "``` df['date']=pd.to_datetime(df['date'], format='%Y%m%d') ```\n",
        "\n",
        "change each ``` df['...'] ``` to one of ``` df['month'] ```, ``` df['year'] ```, ``` df['day'] ```according to ``` format='%Y%m%d'```"
      ]
    },
    {
      "cell_type": "code",
      "metadata": {
        "colab": {
          "base_uri": "https://localhost:8080/"
        },
        "id": "_4pjDOcFcr34",
        "outputId": "0dda841f-3e56-4486-9841-6842c17449a2"
      },
      "source": [
        "# code here (0.5 pt.)\r\n",
        "df['date']=df['year']*10000+df['month']*100+df['day']*1\r\n",
        "df['date']=pd.to_datetime(df['date'], format='%Y%m%d')\r\n",
        "print(df)"
      ],
      "execution_count": 8,
      "outputs": [
        {
          "output_type": "stream",
          "text": [
            "       sales  month  day  year       date\n",
            "0    134.710     10   31  2020 2020-10-31\n",
            "1    137.740      7   31  2020 2020-07-31\n",
            "2    134.620      4   30  2020 2020-04-30\n",
            "3    141.670      1   31  2020 2020-01-31\n",
            "4    127.990     10   31  2019 2019-10-31\n",
            "..       ...    ...  ...   ...        ...\n",
            "142    1.656      4   30  1985 1985-04-30\n",
            "143    2.074      1   31  1985 1985-01-31\n",
            "144    1.584     10   31  1984 1984-10-31\n",
            "145    1.508      7   31  1984 1984-07-31\n",
            "146    1.235      4   30  1984 1984-04-30\n",
            "\n",
            "[147 rows x 5 columns]\n"
          ],
          "name": "stdout"
        }
      ]
    },
    {
      "cell_type": "markdown",
      "metadata": {
        "id": "jfzLYnbZcr35"
      },
      "source": [
        "Change index to dates:\n",
        "\n",
        "``` df.index=.... ```"
      ]
    },
    {
      "cell_type": "code",
      "metadata": {
        "colab": {
          "base_uri": "https://localhost:8080/"
        },
        "id": "NKXgVTpwcr35",
        "outputId": "cb34c62c-36f8-4d5c-83dc-18f2c4c03efe"
      },
      "source": [
        "# code here (0.25 pt.)\r\n",
        "df.index=pd.to_datetime(df.date)\r\n",
        "print(df)"
      ],
      "execution_count": 9,
      "outputs": [
        {
          "output_type": "stream",
          "text": [
            "              sales  month  day  year       date\n",
            "date                                            \n",
            "2020-10-31  134.710     10   31  2020 2020-10-31\n",
            "2020-07-31  137.740      7   31  2020 2020-07-31\n",
            "2020-04-30  134.620      4   30  2020 2020-04-30\n",
            "2020-01-31  141.670      1   31  2020 2020-01-31\n",
            "2019-10-31  127.990     10   31  2019 2019-10-31\n",
            "...             ...    ...  ...   ...        ...\n",
            "1985-04-30    1.656      4   30  1985 1985-04-30\n",
            "1985-01-31    2.074      1   31  1985 1985-01-31\n",
            "1984-10-31    1.584     10   31  1984 1984-10-31\n",
            "1984-07-31    1.508      7   31  1984 1984-07-31\n",
            "1984-04-30    1.235      4   30  1984 1984-04-30\n",
            "\n",
            "[147 rows x 5 columns]\n"
          ],
          "name": "stdout"
        }
      ]
    },
    {
      "cell_type": "markdown",
      "metadata": {
        "id": "C8m5PA0Rcr35"
      },
      "source": [
        "What is the size of the dataset?\n",
        "\n",
        "use ```.shape```"
      ]
    },
    {
      "cell_type": "code",
      "metadata": {
        "colab": {
          "base_uri": "https://localhost:8080/"
        },
        "id": "_rgT7FBlcr35",
        "outputId": "a269a0d8-8b57-4d62-958c-2ea24d7686c5"
      },
      "source": [
        "# code here (0.25 pt.)\r\n",
        "df.shape"
      ],
      "execution_count": 10,
      "outputs": [
        {
          "output_type": "execute_result",
          "data": {
            "text/plain": [
              "(147, 5)"
            ]
          },
          "metadata": {
            "tags": []
          },
          "execution_count": 10
        }
      ]
    },
    {
      "cell_type": "markdown",
      "metadata": {
        "id": "Vi_zhnMDcr36"
      },
      "source": [
        "Drop columns ['day', 'year','month','date']:\n",
        "\n",
        "```df=df.drop(..., axis=1)```"
      ]
    },
    {
      "cell_type": "code",
      "metadata": {
        "colab": {
          "base_uri": "https://localhost:8080/"
        },
        "id": "O_r02XAIkLvJ",
        "outputId": "3d6b993f-ed5f-45db-b159-d0e09aa621db"
      },
      "source": [
        "df=df.drop(['day','year','month','date'], axis=1)\r\n",
        "print(df)"
      ],
      "execution_count": 11,
      "outputs": [
        {
          "output_type": "stream",
          "text": [
            "              sales\n",
            "date               \n",
            "2020-10-31  134.710\n",
            "2020-07-31  137.740\n",
            "2020-04-30  134.620\n",
            "2020-01-31  141.670\n",
            "2019-10-31  127.990\n",
            "...             ...\n",
            "1985-04-30    1.656\n",
            "1985-01-31    2.074\n",
            "1984-10-31    1.584\n",
            "1984-07-31    1.508\n",
            "1984-04-30    1.235\n",
            "\n",
            "[147 rows x 1 columns]\n"
          ],
          "name": "stdout"
        }
      ]
    },
    {
      "cell_type": "markdown",
      "metadata": {
        "id": "xD8PSKilcr36"
      },
      "source": [
        "What is the size of the dataset now?"
      ]
    },
    {
      "cell_type": "code",
      "metadata": {
        "colab": {
          "base_uri": "https://localhost:8080/"
        },
        "id": "Btp4VSmDcr36",
        "outputId": "b33b7b92-6799-4b45-da9c-a2d5d05aa60f"
      },
      "source": [
        "# code here (0.25 pt.)\r\n",
        "df.shape"
      ],
      "execution_count": 12,
      "outputs": [
        {
          "output_type": "execute_result",
          "data": {
            "text/plain": [
              "(147, 1)"
            ]
          },
          "metadata": {
            "tags": []
          },
          "execution_count": 12
        }
      ]
    },
    {
      "cell_type": "markdown",
      "metadata": {
        "id": "BbDyuGdzcr37"
      },
      "source": [
        "### 1.4 Plot data (0.75 pt.)\n",
        "[back to contents](#Contents)"
      ]
    },
    {
      "cell_type": "markdown",
      "metadata": {
        "id": "WnrDlaSwcr37"
      },
      "source": [
        "transform data frame column to series:\n",
        "\n",
        "```y=df['date']```"
      ]
    },
    {
      "cell_type": "code",
      "metadata": {
        "id": "n4UIPRz8cr37"
      },
      "source": [
        "# code here (0.25 pt.)\r\n",
        "y=df['sales']"
      ],
      "execution_count": 14,
      "outputs": []
    },
    {
      "cell_type": "markdown",
      "metadata": {
        "id": "W4NoU0x7cr37"
      },
      "source": [
        "```plot_series``` gets a series as an argument, whose dates sorted in ascending order.\n",
        "Transform your time series by changing descending order to ascending order:\n",
        "\n",
        "apply ```np.flip``` to ```y``` and name the result ```y```"
      ]
    },
    {
      "cell_type": "code",
      "metadata": {
        "colab": {
          "base_uri": "https://localhost:8080/"
        },
        "id": "Q1YYPsUQcr37",
        "outputId": "fa043b87-a2c8-40c7-85f3-44ce7ffc61b8"
      },
      "source": [
        "# code here (0.25 pt.)\r\n",
        "y=np.flip(y)\r\n",
        "print(y)"
      ],
      "execution_count": 15,
      "outputs": [
        {
          "output_type": "stream",
          "text": [
            "date\n",
            "1984-04-30      1.235\n",
            "1984-07-31      1.508\n",
            "1984-10-31      1.584\n",
            "1985-01-31      2.074\n",
            "1985-04-30      1.656\n",
            "               ...   \n",
            "2019-10-31    127.990\n",
            "2020-01-31    141.670\n",
            "2020-04-30    134.620\n",
            "2020-07-31    137.740\n",
            "2020-10-31    134.710\n",
            "Name: sales, Length: 147, dtype: float64\n"
          ],
          "name": "stdout"
        }
      ]
    },
    {
      "cell_type": "markdown",
      "metadata": {
        "id": "IzYeivgtcr38"
      },
      "source": [
        "Plot the series using ```plot_series()```"
      ]
    },
    {
      "cell_type": "code",
      "metadata": {
        "colab": {
          "base_uri": "https://localhost:8080/",
          "height": 299
        },
        "id": "fSBiE2BZcr38",
        "outputId": "5e477092-54ac-49bf-9ec7-e48ab11a0d37"
      },
      "source": [
        "# code here (0.25 pt.)\r\n",
        "plot_series(y)"
      ],
      "execution_count": 16,
      "outputs": [
        {
          "output_type": "execute_result",
          "data": {
            "text/plain": [
              "(<Figure size 1152x288 with 1 Axes>,\n",
              " <matplotlib.axes._subplots.AxesSubplot at 0x7fecfba3dac8>)"
            ]
          },
          "metadata": {
            "tags": []
          },
          "execution_count": 16
        },
        {
          "output_type": "display_data",
          "data": {
            "image/png": "[encoded data removed]",
            "text/plain": [
              "<Figure size 1152x288 with 1 Axes>"
            ]
          },
          "metadata": {
            "tags": [],
            "needs_background": "light"
          }
        }
      ]
    },
    {
      "cell_type": "markdown",
      "metadata": {
        "id": "adrT2QxMcr38"
      },
      "source": [
        "### 1.5 Split data (0.75 pt.)\n",
        "[back to contents](#Contents)"
      ]
    },
    {
      "cell_type": "markdown",
      "metadata": {
        "id": "sG7XxCgfcr38"
      },
      "source": [
        "Split the data into train and test samples:\n",
        "\n",
        "``` temporal_train_test_split(...) ```\n",
        "\n",
        "choose ``` test_size=0.2 ```"
      ]
    },
    {
      "cell_type": "code",
      "metadata": {
        "id": "5yWnlHuucr39"
      },
      "source": [
        "# code here (0.5 pt.)\r\n",
        "y_train, y_test = temporal_train_test_split(y,test_size=0.2)"
      ],
      "execution_count": 17,
      "outputs": []
    },
    {
      "cell_type": "markdown",
      "metadata": {
        "id": "1QULB2Vccr39"
      },
      "source": [
        "plot train and test samples using ``` plot_series ```"
      ]
    },
    {
      "cell_type": "code",
      "metadata": {
        "colab": {
          "base_uri": "https://localhost:8080/",
          "height": 299
        },
        "id": "o3OzweTJcr39",
        "outputId": "acf04f47-b0d8-4933-bf4a-324b806d6dc5"
      },
      "source": [
        "# code here (0.25 pt.)\r\n",
        "plot_series(y_train, y_test, labels=['Trains','Test'])"
      ],
      "execution_count": 18,
      "outputs": [
        {
          "output_type": "execute_result",
          "data": {
            "text/plain": [
              "(<Figure size 1152x288 with 1 Axes>,\n",
              " <matplotlib.axes._subplots.AxesSubplot at 0x7fecfb9ba2b0>)"
            ]
          },
          "metadata": {
            "tags": []
          },
          "execution_count": 18
        },
        {
          "output_type": "display_data",
          "data": {
            "image/png": "[encoded data removed]",
            "text/plain": [
              "<Figure size 1152x288 with 1 Axes>"
            ]
          },
          "metadata": {
            "tags": [],
            "needs_background": "light"
          }
        }
      ]
    },
    {
      "cell_type": "markdown",
      "metadata": {
        "id": "u6POAj8dcr39"
      },
      "source": [
        "## 2. ETS (7 pt.)"
      ]
    },
    {
      "cell_type": "markdown",
      "metadata": {
        "id": "mMCVa7XXcr3-"
      },
      "source": [
        "### 2.1 Estimate ETS (MAA) and (AAM) (1 pt.)\n",
        "[back to contents](#Contents)"
      ]
    },
    {
      "cell_type": "markdown",
      "metadata": {
        "id": "0QURZHvWcr3-"
      },
      "source": [
        "Start with ETS (MAA). Estimate the model and name it ```model_MAA```:\n",
        "\n",
        "```ETSModel(..., error='...', trend='...', seasonal='...', seasonal_periods=...)```\n",
        "\n",
        "```fit_MAA=model_MAA.fit()```\n"
      ]
    },
    {
      "cell_type": "code",
      "metadata": {
        "id": "4Uq2VcAncr3-",
        "colab": {
          "base_uri": "https://localhost:8080/"
        },
        "outputId": "da0f3e55-f80a-4f04-b0d1-b301f98992aa"
      },
      "source": [
        "# code here (0.5 pt.)\r\n",
        "model_MAA=ETSModel(y_train, error='mul', trend='add', seasonal='add', seasonal_periods=4)\r\n",
        "fit_MAA=model_MAA.fit()\r\n",
        "print(fit_MAA.summary())"
      ],
      "execution_count": 19,
      "outputs": [
        {
          "output_type": "stream",
          "text": [
            "                                 ETS Results                                  \n",
            "==============================================================================\n",
            "Dep. Variable:                  sales   No. Observations:                  117\n",
            "Model:                       ETS(MAA)   Log Likelihood                -177.074\n",
            "Date:                Thu, 11 Feb 2021   AIC                            374.147\n",
            "Time:                        17:49:04   BIC                            401.769\n",
            "Sample:                    04-30-1984   HQIC                           385.361\n",
            "                         - 04-30-2013   Scale                            0.002\n",
            "Covariance Type:               approx                                         \n",
            "======================================================================================\n",
            "                         coef    std err          z      P>|z|      [0.025      0.975]\n",
            "--------------------------------------------------------------------------------------\n",
            "smoothing_level        0.3363      0.080      4.186      0.000       0.179       0.494\n",
            "smoothing_trend        0.1333      0.035      3.864      0.000       0.066       0.201\n",
            "smoothing_seasonal     0.4801      0.066      7.312      0.000       0.351       0.609\n",
            "initial_level          1.1159        nan        nan        nan         nan         nan\n",
            "initial_trend          0.1101      0.028      3.959      0.000       0.056       0.165\n",
            "initial_seasonal.0     0.5439        nan        nan        nan         nan         nan\n",
            "initial_seasonal.1     0.1413        nan        nan        nan         nan         nan\n",
            "initial_seasonal.2     0.1666        nan        nan        nan         nan         nan\n",
            "initial_seasonal.3          0        nan        nan        nan         nan         nan\n",
            "===================================================================================\n",
            "Ljung-Box (Q):                        7.99   Jarque-Bera (JB):               125.57\n",
            "Prob(Q):                              0.43   Prob(JB):                         0.00\n",
            "Heteroskedasticity (H):               0.35   Skew:                            -0.36\n",
            "Prob(H) (two-sided):                  0.00   Kurtosis:                         8.02\n",
            "===================================================================================\n",
            "\n",
            "Warnings:\n",
            "[1] Covariance matrix calculated using numerical (complex-step) differentiation.\n"
          ],
          "name": "stdout"
        },
        {
          "output_type": "stream",
          "text": [
            "/usr/local/lib/python3.6/dist-packages/statsmodels/tsa/base/tsa_model.py:527: ValueWarning: No frequency information was provided, so inferred frequency Q-OCT will be used.\n",
            "  % freq, ValueWarning)\n"
          ],
          "name": "stderr"
        }
      ]
    },
    {
      "cell_type": "markdown",
      "metadata": {
        "id": "xXG8jEvOcr3-"
      },
      "source": [
        "Estimate ETS (AAM) with the same characteristics:\n",
        "    \n",
        "```ETSModel(..., error='...', trend='...', seasonal='...', seasonal_periods=...)```\n",
        "\n",
        "```fit_AAM=model_AAM.fit()```\n"
      ]
    },
    {
      "cell_type": "code",
      "metadata": {
        "id": "iZS7fFOWcr3_",
        "colab": {
          "base_uri": "https://localhost:8080/"
        },
        "outputId": "440ab29e-7a01-42ef-a048-cd13bc12cfbf"
      },
      "source": [
        "# code here (0.5 pt.)\r\n",
        "model_AAM=ETSModel(y_train, error='add', trend='add', seasonal='mul', seasonal_periods=4)\r\n",
        "fit_AAM=model_AAM.fit()\r\n",
        "print(fit_AAM.summary())"
      ],
      "execution_count": 20,
      "outputs": [
        {
          "output_type": "stream",
          "text": [
            "                                 ETS Results                                  \n",
            "==============================================================================\n",
            "Dep. Variable:                  sales   No. Observations:                  117\n",
            "Model:                       ETS(AAM)   Log Likelihood                -241.169\n",
            "Date:                Thu, 11 Feb 2021   AIC                            502.338\n",
            "Time:                        17:49:14   BIC                            529.960\n",
            "Sample:                    04-30-1984   HQIC                           513.552\n",
            "                         - 04-30-2013   Scale                            3.613\n",
            "Covariance Type:               approx                                         \n",
            "======================================================================================\n",
            "                         coef    std err          z      P>|z|      [0.025      0.975]\n",
            "--------------------------------------------------------------------------------------\n",
            "smoothing_level        0.5436      0.107      5.077      0.000       0.334       0.753\n",
            "smoothing_trend        0.0429      0.020      2.098      0.036       0.003       0.083\n",
            "smoothing_seasonal     0.1796      0.046      3.918      0.000       0.090       0.269\n",
            "initial_level          0.9791        nan        nan        nan         nan         nan\n",
            "initial_trend          0.2908        nan        nan        nan         nan         nan\n",
            "initial_seasonal.0     1.0712        nan        nan        nan         nan         nan\n",
            "initial_seasonal.1     0.8277        nan        nan        nan         nan         nan\n",
            "initial_seasonal.2     0.8185        nan        nan        nan         nan         nan\n",
            "initial_seasonal.3     1.0000        nan        nan        nan         nan         nan\n",
            "===================================================================================\n",
            "Ljung-Box (Q):                        7.60   Jarque-Bera (JB):              3185.73\n",
            "Prob(Q):                              0.47   Prob(JB):                         0.00\n",
            "Heteroskedasticity (H):              22.15   Skew:                            -3.60\n",
            "Prob(H) (two-sided):                  0.00   Kurtosis:                        27.53\n",
            "===================================================================================\n",
            "\n",
            "Warnings:\n",
            "[1] Covariance matrix calculated using numerical (complex-step) differentiation.\n"
          ],
          "name": "stdout"
        },
        {
          "output_type": "stream",
          "text": [
            "/usr/local/lib/python3.6/dist-packages/statsmodels/tsa/base/tsa_model.py:527: ValueWarning: No frequency information was provided, so inferred frequency Q-OCT will be used.\n",
            "  % freq, ValueWarning)\n"
          ],
          "name": "stderr"
        }
      ]
    },
    {
      "cell_type": "markdown",
      "metadata": {
        "id": "no3ffiA9cr3_"
      },
      "source": [
        "### 2.2 Point forecasts (1 pt.)\n",
        "[back to contents](#Contents)"
      ]
    },
    {
      "cell_type": "markdown",
      "metadata": {
        "id": "R_gW2hSycr3_"
      },
      "source": [
        "Obtain point forecasts for ETS(MAA) with forecasting horizon=30 quarters:\n",
        "\n",
        "```fit_MAA.forecast(steps=...)```"
      ]
    },
    {
      "cell_type": "code",
      "metadata": {
        "id": "ewBT5Q5Tcr3_",
        "colab": {
          "base_uri": "https://localhost:8080/"
        },
        "outputId": "89a6ff93-b8e9-4831-82fb-980d4025eb2a"
      },
      "source": [
        "# code here (0.25 pt.)\r\n",
        "fit_MAA.forecast(steps=30)"
      ],
      "execution_count": 21,
      "outputs": [
        {
          "output_type": "execute_result",
          "data": {
            "text/plain": [
              "2013-07-31    117.848870\n",
              "2013-10-31    117.364671\n",
              "2014-01-31    130.725437\n",
              "2014-04-30    117.901781\n",
              "2014-07-31    121.230478\n",
              "2014-10-31    120.746279\n",
              "2015-01-31    134.107045\n",
              "2015-04-30    121.283388\n",
              "2015-07-31    124.612085\n",
              "2015-10-31    124.127886\n",
              "2016-01-31    137.488652\n",
              "2016-04-30    124.664996\n",
              "2016-07-31    127.993693\n",
              "2016-10-31    127.509494\n",
              "2017-01-31    140.870260\n",
              "2017-04-30    128.046603\n",
              "2017-07-31    131.375301\n",
              "2017-10-31    130.891102\n",
              "2018-01-31    144.251867\n",
              "2018-04-30    131.428211\n",
              "2018-07-31    134.756908\n",
              "2018-10-31    134.272709\n",
              "2019-01-31    147.633475\n",
              "2019-04-30    134.809819\n",
              "2019-07-31    138.138516\n",
              "2019-10-31    137.654317\n",
              "2020-01-31    151.015082\n",
              "2020-04-30    138.191426\n",
              "2020-07-31    141.520123\n",
              "2020-10-31    141.035924\n",
              "Freq: Q-OCT, Name: simulation, dtype: float64"
            ]
          },
          "metadata": {
            "tags": []
          },
          "execution_count": 21
        }
      ]
    },
    {
      "cell_type": "markdown",
      "metadata": {
        "id": "e7Qt2S2Mcr4A"
      },
      "source": [
        "Obtain point forecasts for ETS(AAM) with forecasting horizon=30 quarters:\n",
        "\n",
        "```fit_AAM.forecast(steps=...)```"
      ]
    },
    {
      "cell_type": "code",
      "metadata": {
        "id": "0Yw7cmuCcr4A",
        "colab": {
          "base_uri": "https://localhost:8080/"
        },
        "outputId": "a21d5f51-fe82-43ac-890d-d14a12e1185e"
      },
      "source": [
        "# code here (0.25 pt.)\r\n",
        "fit_AAM.forecast(steps=30)"
      ],
      "execution_count": 22,
      "outputs": [
        {
          "output_type": "execute_result",
          "data": {
            "text/plain": [
              "2013-07-31    119.244422\n",
              "2013-10-31    117.867103\n",
              "2014-01-31    133.457352\n",
              "2014-04-30    118.815393\n",
              "2014-07-31    124.107317\n",
              "2014-10-31    122.625318\n",
              "2015-01-31    138.791105\n",
              "2015-04-30    123.516990\n",
              "2015-07-31    128.970212\n",
              "2015-10-31    127.383534\n",
              "2016-01-31    144.124858\n",
              "2016-04-30    128.218587\n",
              "2016-07-31    133.833106\n",
              "2016-10-31    132.141749\n",
              "2017-01-31    149.458611\n",
              "2017-04-30    132.920184\n",
              "2017-07-31    138.696001\n",
              "2017-10-31    136.899964\n",
              "2018-01-31    154.792364\n",
              "2018-04-30    137.621780\n",
              "2018-07-31    143.558895\n",
              "2018-10-31    141.658179\n",
              "2019-01-31    160.126117\n",
              "2019-04-30    142.323377\n",
              "2019-07-31    148.421790\n",
              "2019-10-31    146.416394\n",
              "2020-01-31    165.459870\n",
              "2020-04-30    147.024974\n",
              "2020-07-31    153.284684\n",
              "2020-10-31    151.174609\n",
              "Freq: Q-OCT, Name: simulation, dtype: float64"
            ]
          },
          "metadata": {
            "tags": []
          },
          "execution_count": 22
        }
      ]
    },
    {
      "cell_type": "markdown",
      "metadata": {
        "id": "gtYIANSicr4A"
      },
      "source": [
        "Plot both forecasts (AAM) and (MAA), test and train data\n",
        "\n",
        "```plot_series()```"
      ]
    },
    {
      "cell_type": "code",
      "metadata": {
        "id": "q8aZHFq7cr4A",
        "colab": {
          "base_uri": "https://localhost:8080/",
          "height": 547
        },
        "outputId": "4a1cd76b-e1e9-40cc-a845-5c48e1a89f24"
      },
      "source": [
        "# code here (0.5 pt.)\r\n",
        "plot_series(y_train, y_test, fit_AAM.forecast(steps=30), fit_MAA.forecast(steps=30), labels=['Train', 'Test','AAM','MAA'])\r\n",
        "plot_series(y_test, fit_AAM.forecast(steps=30), fit_MAA.forecast(steps=30), labels=['Test','AAM','MAA'])"
      ],
      "execution_count": 23,
      "outputs": [
        {
          "output_type": "execute_result",
          "data": {
            "text/plain": [
              "(<Figure size 1152x288 with 1 Axes>,\n",
              " <matplotlib.axes._subplots.AxesSubplot at 0x7fecf9e27828>)"
            ]
          },
          "metadata": {
            "tags": []
          },
          "execution_count": 23
        },
        {
          "output_type": "display_data",
          "data": {
            "image/png": "[encoded data removed]",
            "text/plain": [
              "<Figure size 1152x288 with 1 Axes>"
            ]
          },
          "metadata": {
            "tags": [],
            "needs_background": "light"
          }
        },
        {
          "output_type": "display_data",
          "data": {
            "image/png": "[encoded data removed]",
            "text/plain": [
              "<Figure size 1152x288 with 1 Axes>"
            ]
          },
          "metadata": {
            "tags": [],
            "needs_background": "light"
          }
        }
      ]
    },
    {
      "cell_type": "markdown",
      "metadata": {
        "id": "bEsmQF6Tcr4B"
      },
      "source": [
        "### 2.3 Interval forecasts ETS(MAA) (1 pt.)\n",
        "[back to contents](#Contents)"
      ]
    },
    {
      "cell_type": "markdown",
      "metadata": {
        "id": "vd759mJ5cr4B"
      },
      "source": [
        "Get 95% confidence intervals:\n",
        "\n",
        "```pred_MAA=fit_MAA.get_prediction(start='2013-07-31', end='2020-10-31') ```\n",
        "\n",
        "``` pred_MAA=pred_MAA.summary_frame(alpha=0.05) ```\n",
        "\n",
        "Expract upper and lower bounds from ```pred_MAA``` and name them ```upper_int``` and ```lower_int```\n"
      ]
    },
    {
      "cell_type": "code",
      "metadata": {
        "id": "2aGYoW50cr4B",
        "colab": {
          "base_uri": "https://localhost:8080/"
        },
        "outputId": "9bc19dd7-0fa8-43e9-b133-0614a5dcabae"
      },
      "source": [
        "# code here (0.5 pt.)\r\n",
        "pred_MAA=fit_MAA.get_prediction(start='2013-07-31', end='2020-10-31')\r\n",
        "pred_MAA=pred_MAA.summary_frame(alpha=0.05)\r\n",
        "lower_int=pred_MAA.pi_lower\r\n",
        "upper_int=pred_MAA.pi_upper\r\n",
        "print(lower_int,upper_int)"
      ],
      "execution_count": 24,
      "outputs": [
        {
          "output_type": "stream",
          "text": [
            "2013-07-31    107.650653\n",
            "2013-10-31    107.016970\n",
            "2014-01-31    117.458301\n",
            "2014-04-30    103.822347\n",
            "2014-07-31    101.355167\n",
            "2014-10-31     97.497021\n",
            "2015-01-31    108.940670\n",
            "2015-04-30     93.075093\n",
            "2015-07-31     90.051554\n",
            "2015-10-31     86.783153\n",
            "2016-01-31     96.991631\n",
            "2016-04-30     81.428146\n",
            "2016-07-31     77.577916\n",
            "2016-10-31     72.667411\n",
            "2017-01-31     81.196642\n",
            "2017-04-30     66.392136\n",
            "2017-07-31     62.074075\n",
            "2017-10-31     56.787774\n",
            "2018-01-31     65.974025\n",
            "2018-04-30     49.230357\n",
            "2018-07-31     45.228304\n",
            "2018-10-31     40.013601\n",
            "2019-01-31     49.394422\n",
            "2019-04-30     34.770252\n",
            "2019-07-31     24.451085\n",
            "2019-10-31     23.679236\n",
            "2020-01-31     32.227160\n",
            "2020-04-30     14.948165\n",
            "2020-07-31      7.245227\n",
            "2020-10-31      6.443948\n",
            "Freq: Q-OCT, Name: pi_lower, dtype: float64 2013-07-31    127.828293\n",
            "2013-10-31    128.393570\n",
            "2014-01-31    144.488879\n",
            "2014-04-30    133.562064\n",
            "2014-07-31    142.201429\n",
            "2014-10-31    143.672832\n",
            "2015-01-31    160.711107\n",
            "2015-04-30    150.802447\n",
            "2015-07-31    160.006028\n",
            "2015-10-31    163.850950\n",
            "2016-01-31    182.999919\n",
            "2016-04-30    172.762584\n",
            "2016-07-31    183.167808\n",
            "2016-10-31    187.874077\n",
            "2017-01-31    209.711044\n",
            "2017-04-30    198.449951\n",
            "2017-07-31    211.001057\n",
            "2017-10-31    215.524663\n",
            "2018-01-31    242.234896\n",
            "2018-04-30    233.923161\n",
            "2018-07-31    248.038360\n",
            "2018-10-31    248.265433\n",
            "2019-01-31    274.740126\n",
            "2019-04-30    263.365661\n",
            "2019-07-31    272.934425\n",
            "2019-10-31    280.441397\n",
            "2020-01-31    301.776451\n",
            "2020-04-30    298.433263\n",
            "2020-07-31    309.084168\n",
            "2020-10-31    314.748405\n",
            "Freq: Q-OCT, Name: pi_upper, dtype: float64\n"
          ],
          "name": "stdout"
        }
      ]
    },
    {
      "cell_type": "markdown",
      "metadata": {
        "id": "ee68db4acr4B"
      },
      "source": [
        "Plot interval predictions:\n",
        "\n",
        "```plot_series()```"
      ]
    },
    {
      "cell_type": "code",
      "metadata": {
        "scrolled": true,
        "id": "xGaIkpw9cr4C",
        "colab": {
          "base_uri": "https://localhost:8080/",
          "height": 299
        },
        "outputId": "4a4bc775-8c38-4a9f-b9f7-abc58701ff01"
      },
      "source": [
        "# code here (0.5 pt.)\r\n",
        "plot_series(upper_int, lower_int, labels=['Upper','Lower'])"
      ],
      "execution_count": 25,
      "outputs": [
        {
          "output_type": "execute_result",
          "data": {
            "text/plain": [
              "(<Figure size 1152x288 with 1 Axes>,\n",
              " <matplotlib.axes._subplots.AxesSubplot at 0x7fecf9ee0f60>)"
            ]
          },
          "metadata": {
            "tags": []
          },
          "execution_count": 25
        },
        {
          "output_type": "display_data",
          "data": {
            "image/png": "[encoded data removed]",
            "text/plain": [
              "<Figure size 1152x288 with 1 Axes>"
            ]
          },
          "metadata": {
            "tags": [],
            "needs_background": "light"
          }
        }
      ]
    },
    {
      "cell_type": "markdown",
      "metadata": {
        "id": "d1-vZT0Gcr4C"
      },
      "source": [
        "### 2.4 Interval forecasts ETS(AAM) (1 pt.)\n",
        "[back to contents](#Contents)"
      ]
    },
    {
      "cell_type": "markdown",
      "metadata": {
        "id": "rI_dHCKacr4C"
      },
      "source": [
        "Get 95% confidence intervals:\n",
        "\n",
        "``` pred_AAM=fit_AAM.get_prediction(start='2013-07-31', end='2020-10-31') ```\n",
        "\n",
        "``` pred_AAM=pred_AAM.summary_frame(alpha=0.05) ```\n",
        "\n",
        "Expract upper and lower bounds from ```pred_MAA``` and name them ```upper_int``` and ```lower_int```"
      ]
    },
    {
      "cell_type": "code",
      "metadata": {
        "id": "GUGANP7ncr4C",
        "colab": {
          "base_uri": "https://localhost:8080/"
        },
        "outputId": "7a3b1ac4-37ff-41a0-ee26-00fe815083ca"
      },
      "source": [
        "# code here (0.5 pt.)\r\n",
        "pred_AAM=fit_AAM.get_prediction(start='2013-07-31', end='2020-10-31')\r\n",
        "pred_AAM=pred_AAM.summary_frame(alpha=0.05)\r\n",
        "lower_int=pred_AAM.pi_lower\r\n",
        "upper_int=pred_AAM.pi_upper\r\n",
        "print(lower_int,upper_int)"
      ],
      "execution_count": 26,
      "outputs": [
        {
          "output_type": "stream",
          "text": [
            "2013-07-31    115.485301\n",
            "2013-10-31    113.383970\n",
            "2014-01-31    128.227110\n",
            "2014-04-30    113.387458\n",
            "2014-07-31    117.906153\n",
            "2014-10-31    115.501787\n",
            "2015-01-31    130.777952\n",
            "2015-04-30    115.735200\n",
            "2015-07-31    119.928211\n",
            "2015-10-31    118.233398\n",
            "2016-01-31    134.080215\n",
            "2016-04-30    117.968704\n",
            "2016-07-31    122.357781\n",
            "2016-10-31    120.705025\n",
            "2017-01-31    135.969991\n",
            "2017-04-30    119.766796\n",
            "2017-07-31    124.317271\n",
            "2017-10-31    121.496662\n",
            "2018-01-31    138.006497\n",
            "2018-04-30    121.436302\n",
            "2018-07-31    125.556721\n",
            "2018-10-31    123.937546\n",
            "2019-01-31    138.823664\n",
            "2019-04-30    122.989130\n",
            "2019-07-31    127.538686\n",
            "2019-10-31    124.875689\n",
            "2020-01-31    141.287942\n",
            "2020-04-30    124.815799\n",
            "2020-07-31    129.154059\n",
            "2020-10-31    126.570238\n",
            "Freq: Q-OCT, Name: pi_lower, dtype: float64 2013-07-31    123.138881\n",
            "2013-10-31    122.312800\n",
            "2014-01-31    138.532367\n",
            "2014-04-30    123.982912\n",
            "2014-07-31    130.502878\n",
            "2014-10-31    129.319092\n",
            "2015-01-31    146.917438\n",
            "2015-04-30    131.534252\n",
            "2015-07-31    137.972316\n",
            "2015-10-31    137.316613\n",
            "2016-01-31    154.959830\n",
            "2016-04-30    138.313186\n",
            "2016-07-31    145.277847\n",
            "2016-10-31    144.068948\n",
            "2017-01-31    163.414238\n",
            "2017-04-30    145.863407\n",
            "2017-07-31    153.437371\n",
            "2017-10-31    152.270482\n",
            "2018-01-31    172.329195\n",
            "2018-04-30    154.206008\n",
            "2018-07-31    161.735921\n",
            "2018-10-31    160.456256\n",
            "2019-01-31    180.929796\n",
            "2019-04-30    161.221248\n",
            "2019-07-31    169.228051\n",
            "2019-10-31    167.459231\n",
            "2020-01-31    189.582403\n",
            "2020-04-30    169.501270\n",
            "2020-07-31    177.083849\n",
            "2020-10-31    175.777536\n",
            "Freq: Q-OCT, Name: pi_upper, dtype: float64\n"
          ],
          "name": "stdout"
        }
      ]
    },
    {
      "cell_type": "markdown",
      "metadata": {
        "id": "YUrZnxOhcr4D"
      },
      "source": [
        "Plot interval predictions:\n",
        "\n",
        "```plot_series()```"
      ]
    },
    {
      "cell_type": "code",
      "metadata": {
        "scrolled": true,
        "id": "FwxXlwiccr4D",
        "colab": {
          "base_uri": "https://localhost:8080/",
          "height": 299
        },
        "outputId": "f62b0666-fc27-49d0-cbad-549d119922e2"
      },
      "source": [
        "# code here (0.5 pt.)\r\n",
        "plot_series(upper_int, lower_int, labels=['Upper','Lower'])"
      ],
      "execution_count": 27,
      "outputs": [
        {
          "output_type": "execute_result",
          "data": {
            "text/plain": [
              "(<Figure size 1152x288 with 1 Axes>,\n",
              " <matplotlib.axes._subplots.AxesSubplot at 0x7fecf9dd5278>)"
            ]
          },
          "metadata": {
            "tags": []
          },
          "execution_count": 27
        },
        {
          "output_type": "display_data",
          "data": {
            "image/png": "[encoded data removed]",
            "text/plain": [
              "<Figure size 1152x288 with 1 Axes>"
            ]
          },
          "metadata": {
            "tags": [],
            "needs_background": "light"
          }
        }
      ]
    },
    {
      "cell_type": "markdown",
      "metadata": {
        "id": "jNLPkKihcr4D"
      },
      "source": [
        "### 2.5 Forecast quality metrics (2 pt.)\n",
        "[back to contents](#Contents)"
      ]
    },
    {
      "cell_type": "markdown",
      "metadata": {
        "id": "g9vjJ5y7cr4D"
      },
      "source": [
        "Calculate the following metrics for both ETS(MAA) and ETS(AAM) predictions:"
      ]
    },
    {
      "cell_type": "markdown",
      "metadata": {
        "id": "vyp9B2-gcr4E"
      },
      "source": [
        "$MAE = \\frac{\\sum\\limits_{i=1}^n |y_i-\\hat{y}_i|}{n}$\n",
        "\n",
        "```python\n",
        "sklearn.metrics.mean_absolute_error\n",
        "```"
      ]
    },
    {
      "cell_type": "code",
      "metadata": {
        "id": "M3NR4ofvcr4E",
        "colab": {
          "base_uri": "https://localhost:8080/"
        },
        "outputId": "5512ff25-cae4-4f2c-c913-fd22ec546138"
      },
      "source": [
        "# code here (0.5 pt.)\r\n",
        "mean_absolute_error(y_test, fit_MAA.forecast(steps=30))"
      ],
      "execution_count": 28,
      "outputs": [
        {
          "output_type": "execute_result",
          "data": {
            "text/plain": [
              "6.394546605755498"
            ]
          },
          "metadata": {
            "tags": []
          },
          "execution_count": 28
        }
      ]
    },
    {
      "cell_type": "code",
      "metadata": {
        "id": "acooo3Uqcr4F",
        "colab": {
          "base_uri": "https://localhost:8080/"
        },
        "outputId": "1183820f-aaf2-45ed-a997-36ae86b76fd4"
      },
      "source": [
        "# code here (0.5 pt.) AAM\r\n",
        "mean_absolute_error(y_test, fit_AAM.forecast(steps=30))"
      ],
      "execution_count": 29,
      "outputs": [
        {
          "output_type": "execute_result",
          "data": {
            "text/plain": [
              "12.709161383337841"
            ]
          },
          "metadata": {
            "tags": []
          },
          "execution_count": 29
        }
      ]
    },
    {
      "cell_type": "markdown",
      "metadata": {
        "id": "N0jy12QKcr4F"
      },
      "source": [
        "$MSE = \\frac{\\sum\\limits_{i=1}^n (y_i-\\hat{y}_i)^2}{n}$\n",
        "\n",
        "```python\n",
        "sklearn.metrics.mean_squared_error\n",
        "```"
      ]
    },
    {
      "cell_type": "code",
      "metadata": {
        "id": "EXCTdJ0ncr4F",
        "colab": {
          "base_uri": "https://localhost:8080/"
        },
        "outputId": "e7aa5f71-d7a2-4b1e-a8dd-a44f11c20495"
      },
      "source": [
        "# code here (0.5 pt.) MAA\r\n",
        "mean_squared_error(y_test, fit_MAA.forecast(steps=30))"
      ],
      "execution_count": 30,
      "outputs": [
        {
          "output_type": "execute_result",
          "data": {
            "text/plain": [
              "50.57147037477893"
            ]
          },
          "metadata": {
            "tags": []
          },
          "execution_count": 30
        }
      ]
    },
    {
      "cell_type": "code",
      "metadata": {
        "id": "zb_GAletcr4G",
        "colab": {
          "base_uri": "https://localhost:8080/"
        },
        "outputId": "0e58484e-8d35-4c3a-e4ec-b9bc3467d8bb"
      },
      "source": [
        "# code here (0.5 pt.) AAM\r\n",
        "mean_squared_error(y_test, fit_AAM.forecast(steps=30))"
      ],
      "execution_count": 31,
      "outputs": [
        {
          "output_type": "execute_result",
          "data": {
            "text/plain": [
              "195.9700976122845"
            ]
          },
          "metadata": {
            "tags": []
          },
          "execution_count": 31
        }
      ]
    },
    {
      "cell_type": "markdown",
      "metadata": {
        "id": "KKhttknCcr4G"
      },
      "source": [
        "$MAPE = \\frac{100}{n}\\frac{\\sum\\limits_{i=1}^n |y_i-\\hat{y}_i|}{y_i}$ \n",
        "\n",
        "```python\n",
        "def mean_absolute_percentage_error(y_true, y_pred): \n",
        "    return np.mean(np.abs((y_true - y_pred) / y_true)) * 100\n",
        "```"
      ]
    },
    {
      "cell_type": "markdown",
      "metadata": {
        "id": "TIrjLLNDcr4G"
      },
      "source": [
        "Create a new function to calculate MAPE"
      ]
    },
    {
      "cell_type": "code",
      "metadata": {
        "id": "YjLDOK49cr4G"
      },
      "source": [
        "# code here (0.5 pt.)\r\n",
        "def mean_absolute_percentage_error(y_true, y_pred): \r\n",
        "    return np.mean(np.abs((y_true - y_pred) / y_true)) * 100"
      ],
      "execution_count": 32,
      "outputs": []
    },
    {
      "cell_type": "markdown",
      "metadata": {
        "id": "9OSrpyxWcr4G"
      },
      "source": [
        "Calculate MAPE:"
      ]
    },
    {
      "cell_type": "code",
      "metadata": {
        "id": "EK2B_3-qcr4H",
        "colab": {
          "base_uri": "https://localhost:8080/"
        },
        "outputId": "c1c64def-946f-4b8e-be67-b8996b2101d3"
      },
      "source": [
        "# code here (0.25 pt.) MAA\r\n",
        "mean_absolute_percentage_error(y_test, fit_MAA.forecast(steps=30))"
      ],
      "execution_count": 33,
      "outputs": [
        {
          "output_type": "execute_result",
          "data": {
            "text/plain": [
              "5.091701024681435"
            ]
          },
          "metadata": {
            "tags": []
          },
          "execution_count": 33
        }
      ]
    },
    {
      "cell_type": "code",
      "metadata": {
        "id": "YDocwvIdcr4H",
        "colab": {
          "base_uri": "https://localhost:8080/"
        },
        "outputId": "5e53b509-c81c-4602-eba0-b8771d011ca3"
      },
      "source": [
        "# code here (0.25 pt.) AAM\r\n",
        "mean_absolute_percentage_error(y_test, fit_AAM.forecast(steps=30))"
      ],
      "execution_count": 34,
      "outputs": [
        {
          "output_type": "execute_result",
          "data": {
            "text/plain": [
              "9.993524328604307"
            ]
          },
          "metadata": {
            "tags": []
          },
          "execution_count": 34
        }
      ]
    },
    {
      "cell_type": "markdown",
      "metadata": {
        "id": "RbGWREG2cr4H"
      },
      "source": [
        "### 2.6 What is the best model according to the metrics above? (1 pt.)"
      ]
    },
    {
      "cell_type": "code",
      "metadata": {
        "id": "N2kYkin1cr4H",
        "colab": {
          "base_uri": "https://localhost:8080/"
        },
        "outputId": "535f6d78-6f68-410d-caf9-b783709a5028"
      },
      "source": [
        "# code here (1 pt.)\r\n",
        "print('MAA')"
      ],
      "execution_count": 35,
      "outputs": [
        {
          "output_type": "stream",
          "text": [
            "MAA\n"
          ],
          "name": "stdout"
        }
      ]
    }
  ]
}